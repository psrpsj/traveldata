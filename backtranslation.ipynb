{
 "cells": [
  {
   "cell_type": "code",
   "execution_count": 1,
   "metadata": {},
   "outputs": [],
   "source": [
    "import pandas as pd\n",
    "import selenium\n",
    "from selenium import webdriver\n",
    "from bs4 import BeautifulSoup\n",
    "import time\n",
    "from tqdm import tnrange\n",
    "from urllib.request import urlopen\n",
    "import re\n",
    "import requests\n",
    "import urllib.request\n",
    "from tqdm import tqdm\n",
    "from konlpy.tag import Okt\n",
    "from selenium.common.exceptions import NoSuchElementException "
   ]
  },
  {
   "cell_type": "code",
   "execution_count": 2,
   "metadata": {},
   "outputs": [],
   "source": [
    "train = pd.read_csv(\"./data/train.csv\")"
   ]
  },
  {
   "cell_type": "code",
   "execution_count": 3,
   "metadata": {},
   "outputs": [
    {
     "name": "stderr",
     "output_type": "stream",
     "text": [
      "/usr/local/lib/python3.6/dist-packages/ipykernel_launcher.py:5: DeprecationWarning: use options instead of chrome_options\n",
      "  \"\"\"\n"
     ]
    }
   ],
   "source": [
    "options = webdriver.ChromeOptions()\n",
    "options.add_argument('--headless')\n",
    "options.add_argument('--no-sandbox')\n",
    "options.add_argument('--disable-dev-shm-usage')\n",
    "driver = webdriver.Chrome(chrome_options=options)"
   ]
  },
  {
   "cell_type": "code",
   "execution_count": 4,
   "metadata": {},
   "outputs": [],
   "source": [
    "def preprocess_nlp(dataset: pd.DataFrame, train: bool) -> pd.DataFrame:\n",
    "    f = open(\"./data/stopword.txt\", encoding=\"UTF-8\")\n",
    "    line = f.readlines()\n",
    "    stopwords = []\n",
    "\n",
    "    for l in line:\n",
    "        l = l.replace(\"\\n\", \"\")\n",
    "        stopwords.append(l)\n",
    "\n",
    "    print(\"### Start Preprocess for Overview ###\")\n",
    "    drop_list = []\n",
    "    for idx in tqdm(range(len(dataset))):\n",
    "        to_fix = dataset[\"overview\"][idx]\n",
    "        to_fix = \" \".join(to_fix.split())\n",
    "        to_fix = re.sub(\"<.+?>\", \"\", to_fix)\n",
    "        to_fix = re.sub(\"[^ 가-힣0-9a-zA-Z]\", \"\", to_fix)\n",
    "    if train:\n",
    "        dataset.drop(drop_list)\n",
    "    return dataset"
   ]
  },
  {
   "cell_type": "code",
   "execution_count": 5,
   "metadata": {},
   "outputs": [],
   "source": [
    "def trans(t, driver):\n",
    "    new_text = []\n",
    "    lang = ['en', 'ja&hn=0']\n",
    "    for l in lang:\n",
    "        backtrans = \"\"\n",
    "        try:\n",
    "            driver.get('https://papago.naver.com/?sk=ko&tk='+l+'&st='+t)\n",
    "            time.sleep(2.5)\n",
    "            backtrans = driver.find_element_by_xpath('//*[@id=\"txtTarget\"]').text\n",
    "        except:\n",
    "            pass\n",
    "        return_sen = \"\"\n",
    "        if backtrans != \"\":\n",
    "            try:\n",
    "                driver.get('https://papago.naver.com/?sk='+l+'&tk=ko&st='+backtrans)\n",
    "                time.sleep(2.5)\n",
    "                return_sen = driver.find_element_by_xpath('//*[@id=\"txtTarget\"]').text\n",
    "            except:\n",
    "                pass\n",
    "        if return_sen != \"\":\n",
    "            new_text.append(return_sen)\n",
    "    return new_text"
   ]
  },
  {
   "cell_type": "code",
   "execution_count": 6,
   "metadata": {},
   "outputs": [],
   "source": [
    "def backtranslation_aug(driver):\n",
    "    train = pd.read_csv(\"./data/train.csv\")\n",
    "    train = preprocess_nlp(train, train=True)\n",
    "\n",
    "    # aug_cat extract\n",
    "    aug_cat = []\n",
    "    val = train[\"cat3\"].values.tolist()\n",
    "    val = list(set(val))\n",
    "\n",
    "    for v in val:\n",
    "        if len(train[train[\"cat3\"] == v]) < 200:\n",
    "            aug_cat.append(v)\n",
    "\n",
    "    for a in tqdm(aug_cat):\n",
    "        aug = train[train[\"cat3\"] == a]\n",
    "        for idx in tqdm(range(len(aug))):\n",
    "            origin = aug.iloc[idx].copy()\n",
    "            aug_view = aug[\"overview\"].iloc[idx]\n",
    "            aug_view = re.sub(\"<br>\", \"\", aug_view)\n",
    "            aug_list = trans(aug_view, driver)\n",
    "            aug_list = list(set(aug_list))\n",
    "\n",
    "            for au in aug_list:\n",
    "                new_data = origin.copy()\n",
    "                new_data[\"overview\"] = au\n",
    "                train = train.append(new_data)\n",
    "    train.to_csv(\"./data/train_enjp.csv\", index=False)    "
   ]
  },
  {
   "cell_type": "code",
   "execution_count": 7,
   "metadata": {},
   "outputs": [
    {
     "name": "stdout",
     "output_type": "stream",
     "text": [
      "### Start Preprocess for Overview ###\n"
     ]
    },
    {
     "name": "stderr",
     "output_type": "stream",
     "text": [
      "100%|██████████| 16986/16986 [00:00<00:00, 17174.81it/s]\n",
      "100%|██████████| 165/165 [28:18<00:00, 10.29s/it]\n",
      "100%|██████████| 105/105 [18:00<00:00, 10.29s/it]it]\n",
      "100%|██████████| 20/20 [03:26<00:00, 10.31s/it]s/it]\n",
      "100%|██████████| 4/4 [00:42<00:00, 10.55s/it]7s/it] \n",
      "100%|██████████| 92/92 [14:53<00:00,  9.71s/it]/it]\n",
      "100%|██████████| 8/8 [01:24<00:00, 10.54s/it].05s/it]\n",
      "100%|██████████| 2/2 [00:21<00:00, 10.52s/it].71s/it]\n",
      "100%|██████████| 61/61 [10:39<00:00, 10.49s/it]s/it] \n",
      "100%|██████████| 12/12 [02:06<00:00, 10.57s/it]9s/it]\n",
      "100%|██████████| 6/6 [01:03<00:00, 10.53s/it]25s/it] \n",
      "100%|██████████| 111/111 [17:54<00:00,  9.68s/it]/it]\n",
      "100%|██████████| 113/113 [19:55<00:00, 10.58s/it]s/it]\n",
      "100%|██████████| 36/36 [05:36<00:00,  9.35s/it]13s/it]\n",
      "100%|██████████| 7/7 [01:14<00:00, 10.61s/it]7.68s/it]\n",
      "100%|██████████| 88/88 [15:00<00:00, 10.24s/it]59s/it]\n",
      "100%|██████████| 173/173 [29:04<00:00, 10.08s/it]s/it]\n",
      "100%|██████████| 22/22 [03:42<00:00, 10.10s/it]47s/it]\n",
      "100%|██████████| 2/2 [00:21<00:00, 10.58s/it]6.83s/it]\n",
      "100%|██████████| 83/83 [14:31<00:00, 10.50s/it]79s/it]\n",
      "100%|██████████| 7/7 [01:13<00:00, 10.57s/it]7.13s/it]\n",
      "100%|██████████| 17/17 [02:54<00:00, 10.28s/it]06s/it]\n",
      "100%|██████████| 26/26 [04:32<00:00, 10.48s/it]4s/it] \n",
      "100%|██████████| 2/2 [00:21<00:00, 10.57s/it].87s/it]\n",
      "100%|██████████| 12/12 [02:01<00:00, 10.14s/it]3s/it]\n",
      "100%|██████████| 65/65 [10:58<00:00, 10.14s/it]5s/it]\n",
      "100%|██████████| 60/60 [10:34<00:00, 10.57s/it]4s/it]\n",
      "100%|██████████| 151/151 [26:09<00:00, 10.40s/it]/it]\n",
      "100%|██████████| 148/148 [24:25<00:00,  9.90s/it]s/it]\n",
      "100%|██████████| 23/23 [03:41<00:00,  9.64s/it]32s/it]\n",
      "100%|██████████| 41/41 [07:08<00:00, 10.45s/it]71s/it]\n",
      "100%|██████████| 43/43 [07:14<00:00, 10.12s/it]38s/it]\n",
      "100%|██████████| 2/2 [00:20<00:00, 10.50s/it]9.27s/it]\n",
      "100%|██████████| 11/11 [01:34<00:00,  8.61s/it]9s/it] \n",
      "100%|██████████| 21/21 [03:22<00:00,  9.66s/it]8s/it]\n",
      "100%|██████████| 27/27 [04:45<00:00, 10.57s/it]9s/it]\n",
      "100%|██████████| 2/2 [00:21<00:00, 10.56s/it].81s/it]\n",
      "100%|██████████| 5/5 [00:53<00:00, 10.61s/it].40s/it]\n",
      "100%|██████████| 71/71 [11:57<00:00, 10.10s/it]0s/it]\n",
      "100%|██████████| 179/179 [30:47<00:00, 10.32s/it]/it]\n",
      "100%|██████████| 4/4 [00:42<00:00, 10.57s/it]3.56s/it]\n",
      "100%|██████████| 29/29 [05:01<00:00, 10.39s/it]18s/it]\n",
      "100%|██████████| 76/76 [11:52<00:00,  9.37s/it]3s/it] \n",
      "100%|██████████| 15/15 [02:07<00:00,  8.52s/it]4s/it]\n",
      "100%|██████████| 85/85 [13:31<00:00,  9.54s/it]1s/it]\n",
      "100%|██████████| 119/119 [20:50<00:00, 10.51s/it]/it]\n",
      "100%|██████████| 172/172 [29:35<00:00, 10.32s/it]s/it]\n",
      "100%|██████████| 35/35 [06:11<00:00, 10.60s/it].31s/it]\n",
      "100%|██████████| 30/30 [05:12<00:00, 10.43s/it]53s/it] \n",
      "100%|██████████| 21/21 [03:42<00:00, 10.58s/it]34s/it]\n",
      "100%|██████████| 34/34 [05:59<00:00, 10.59s/it]2s/it] \n",
      "100%|██████████| 160/160 [27:15<00:00, 10.22s/it]/it]\n",
      "100%|██████████| 20/20 [03:32<00:00, 10.61s/it]11s/it]\n",
      "100%|██████████| 64/64 [11:11<00:00, 10.49s/it]5s/it] \n",
      "100%|██████████| 41/41 [07:09<00:00, 10.47s/it]0s/it]\n",
      "100%|██████████| 6/6 [01:03<00:00, 10.60s/it].74s/it]\n",
      "100%|██████████| 4/4 [00:42<00:00, 10.59s/it].51s/it]\n",
      "100%|██████████| 9/9 [01:32<00:00, 10.33s/it].06s/it]\n",
      "100%|██████████| 53/53 [08:47<00:00,  9.95s/it]4s/it]\n",
      "100%|██████████| 4/4 [00:42<00:00, 10.62s/it].65s/it]\n",
      "100%|██████████| 36/36 [06:16<00:00, 10.45s/it]0s/it]\n",
      "100%|██████████| 40/40 [06:48<00:00, 10.21s/it]3s/it]\n",
      "100%|██████████| 39/39 [06:42<00:00, 10.32s/it]8s/it]\n",
      "100%|██████████| 17/17 [02:54<00:00, 10.28s/it]1s/it]\n",
      "100%|██████████| 18/18 [03:00<00:00, 10.00s/it]9s/it]\n",
      "100%|██████████| 37/37 [06:21<00:00, 10.32s/it]2s/it]\n",
      "100%|██████████| 30/30 [05:07<00:00, 10.24s/it]7s/it]\n",
      "100%|██████████| 6/6 [01:03<00:00, 10.61s/it].82s/it]\n",
      "100%|██████████| 12/12 [02:07<00:00, 10.60s/it]8s/it]\n",
      "100%|██████████| 24/24 [04:03<00:00, 10.16s/it]4s/it]\n",
      "100%|██████████| 18/18 [03:05<00:00, 10.31s/it]5s/it]\n",
      "100%|██████████| 25/25 [04:09<00:00,  9.96s/it]3s/it]\n",
      "100%|██████████| 11/11 [01:56<00:00, 10.61s/it]0s/it]\n",
      "100%|██████████| 126/126 [21:18<00:00, 10.14s/it]/it]\n",
      "100%|██████████| 20/20 [02:42<00:00,  8.15s/it]8s/it]\n",
      "100%|██████████| 27/27 [04:46<00:00, 10.62s/it]1s/it]\n",
      "100%|██████████| 11/11 [01:56<00:00, 10.60s/it]6s/it]\n",
      "100%|██████████| 95/95 [16:00<00:00, 10.11s/it]4s/it]\n",
      "100%|██████████| 4/4 [00:42<00:00, 10.63s/it]5.20s/it]\n",
      "100%|██████████| 6/6 [01:00<00:00, 10.16s/it]9.40s/it]\n",
      "100%|██████████| 8/8 [01:19<00:00,  9.92s/it]9.87s/it]\n",
      "100%|██████████| 9/9 [01:35<00:00, 10.60s/it]2.73s/it]\n",
      "100%|██████████| 24/24 [03:58<00:00,  9.95s/it]53s/it]\n",
      "100%|██████████| 34/34 [05:57<00:00, 10.52s/it]88s/it]\n",
      "100%|██████████| 10/10 [01:35<00:00,  9.56s/it]43s/it]\n",
      "100%|██████████| 6/6 [01:03<00:00, 10.66s/it]9.79s/it]\n",
      "100%|██████████| 4/4 [00:42<00:00, 10.60s/it]03s/it]  \n",
      "100%|██████████| 27/27 [04:40<00:00, 10.40s/it]s/it]\n",
      "100%|██████████| 9/9 [01:35<00:00, 10.62s/it]05s/it]\n",
      "100%|██████████| 120/120 [20:49<00:00, 10.41s/it]it]\n",
      "100%|██████████| 53/53 [08:42<00:00,  9.86s/it]61s/it]\n",
      "100%|██████████| 57/57 [10:05<00:00, 10.61s/it]76s/it]\n",
      "100%|██████████| 104/104 [17:38<00:00, 10.18s/it]s/it]\n",
      "100%|██████████| 2/2 [00:21<00:00, 10.58s/it]5.64s/it]\n",
      "100%|██████████| 134/134 [22:47<00:00, 10.21s/it]s/it]\n",
      "100%|██████████| 57/57 [09:57<00:00, 10.49s/it]76s/it]\n",
      "100%|██████████| 13/13 [02:17<00:00, 10.59s/it]84s/it]\n",
      "100%|██████████| 10/10 [01:34<00:00,  9.49s/it]68s/it]\n",
      "100%|██████████| 118/118 [20:01<00:00, 10.18s/it]it]  \n",
      "100%|██████████| 11/11 [01:55<00:00, 10.54s/it]45s/it]\n",
      "100%|██████████| 79/79 [13:33<00:00, 10.29s/it]s/it]  \n",
      "100%|██████████| 92/92 [16:01<00:00, 10.45s/it]0s/it]\n",
      "100%|██████████| 4/4 [00:42<00:00, 10.58s/it].72s/it]\n",
      "100%|██████████| 15/15 [02:39<00:00, 10.62s/it]1s/it]\n",
      "100%|██████████| 95/95 [16:35<00:00, 10.48s/it]9s/it]\n",
      "100%|██████████| 7/7 [01:08<00:00,  9.84s/it].35s/it]\n",
      "100%|██████████| 105/105 [13:21:52<00:00, 458.22s/it]\n"
     ]
    }
   ],
   "source": [
    "backtranslation_aug(driver)"
   ]
  }
 ],
 "metadata": {
  "kernelspec": {
   "display_name": "Python 3.9.6 64-bit",
   "language": "python",
   "name": "python3"
  },
  "language_info": {
   "codemirror_mode": {
    "name": "ipython",
    "version": 3
   },
   "file_extension": ".py",
   "mimetype": "text/x-python",
   "name": "python",
   "nbconvert_exporter": "python",
   "pygments_lexer": "ipython3",
   "version": "3.6.9"
  },
  "orig_nbformat": 4,
  "vscode": {
   "interpreter": {
    "hash": "31f2aee4e71d21fbe5cf8b01ff0e069b9275f58929596ceb00d14d90e3e16cd6"
   }
  }
 },
 "nbformat": 4,
 "nbformat_minor": 2
}
