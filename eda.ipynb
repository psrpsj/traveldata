{
 "cells": [
  {
   "cell_type": "code",
   "execution_count": 1,
   "metadata": {},
   "outputs": [],
   "source": [
    "import pandas as pd"
   ]
  },
  {
   "cell_type": "code",
   "execution_count": 2,
   "metadata": {},
   "outputs": [],
   "source": [
    "train = pd.read_csv(\"./data/train.csv\")"
   ]
  },
  {
   "cell_type": "code",
   "execution_count": 3,
   "metadata": {},
   "outputs": [
    {
     "data": {
      "text/plain": [
       "인문(문화/예술/역사)    5614\n",
       "음식              4912\n",
       "레포츠             2611\n",
       "자연              1719\n",
       "숙박              1434\n",
       "쇼핑               696\n",
       "Name: cat1, dtype: int64"
      ]
     },
     "execution_count": 3,
     "metadata": {},
     "output_type": "execute_result"
    }
   ],
   "source": [
    "train[\"cat1\"].value_counts()"
   ]
  },
  {
   "cell_type": "code",
   "execution_count": 4,
   "metadata": {},
   "outputs": [
    {
     "data": {
      "text/plain": [
       "음식점       4912\n",
       "육상 레포츠    2288\n",
       "자연관광지     1578\n",
       "역사관광지     1571\n",
       "숙박시설      1434\n",
       "문화시설      1220\n",
       "휴양관광지      889\n",
       "체험관광지      805\n",
       "쇼핑         696\n",
       "축제         569\n",
       "건축/조형물     328\n",
       "수상 레포츠     277\n",
       "관광자원       141\n",
       "공연/행사      139\n",
       "산업관광지       93\n",
       "복합 레포츠      24\n",
       "항공 레포츠      11\n",
       "레포츠소개       11\n",
       "Name: cat2, dtype: int64"
      ]
     },
     "execution_count": 4,
     "metadata": {},
     "output_type": "execute_result"
    }
   ],
   "source": [
    "train[\"cat2\"].value_counts()"
   ]
  },
  {
   "cell_type": "code",
   "execution_count": 7,
   "metadata": {},
   "outputs": [
    {
     "data": {
      "text/plain": [
       "한식                3438\n",
       "야영장,오토캠핑장         1558\n",
       "바/까페               785\n",
       "유적지/사적지            622\n",
       "일반축제               549\n",
       "                  ... \n",
       "뮤지컬                  2\n",
       "클래식음악회               2\n",
       "대중콘서트                2\n",
       "인라인(실내 인라인 포함)       2\n",
       "MTB                  2\n",
       "Name: cat3, Length: 128, dtype: int64"
      ]
     },
     "execution_count": 7,
     "metadata": {},
     "output_type": "execute_result"
    }
   ],
   "source": [
    "train[\"cat3\"].value_counts()"
   ]
  },
  {
   "cell_type": "code",
   "execution_count": 8,
   "metadata": {},
   "outputs": [],
   "source": [
    "from sklearn import preprocessing"
   ]
  },
  {
   "cell_type": "code",
   "execution_count": 10,
   "metadata": {},
   "outputs": [],
   "source": [
    "import pickle\n",
    "\n",
    "\n",
    "lb = preprocessing.LabelEncoder()\n",
    "lb.fit(train[\"cat1\"])\n",
    "output = open(\"cat1_label.pkl\", 'wb')\n",
    "pickle.dump(lb, output)\n",
    "output.close()"
   ]
  },
  {
   "cell_type": "code",
   "execution_count": 11,
   "metadata": {},
   "outputs": [],
   "source": [
    "lb2 = preprocessing.LabelEncoder()\n",
    "lb2.fit(train[\"cat2\"])\n",
    "output = open(\"cat2_label.pkl\", \"wb\")\n",
    "pickle.dump(lb2, output)\n",
    "output.close()"
   ]
  },
  {
   "cell_type": "code",
   "execution_count": 12,
   "metadata": {},
   "outputs": [],
   "source": [
    "lb3 = preprocessing.LabelEncoder()\n",
    "lb3.fit(train[\"cat3\"])\n",
    "output = open(\"cat3_label.pkl\", \"wb\")\n",
    "pickle.dump(lb3, output)\n",
    "output.close()"
   ]
  },
  {
   "cell_type": "code",
   "execution_count": null,
   "metadata": {},
   "outputs": [],
   "source": []
  }
 ],
 "metadata": {
  "kernelspec": {
   "display_name": "Python 3.6.9 64-bit",
   "language": "python",
   "name": "python3"
  },
  "language_info": {
   "codemirror_mode": {
    "name": "ipython",
    "version": 3
   },
   "file_extension": ".py",
   "mimetype": "text/x-python",
   "name": "python",
   "nbconvert_exporter": "python",
   "pygments_lexer": "ipython3",
   "version": "3.6.9"
  },
  "orig_nbformat": 4,
  "vscode": {
   "interpreter": {
    "hash": "31f2aee4e71d21fbe5cf8b01ff0e069b9275f58929596ceb00d14d90e3e16cd6"
   }
  }
 },
 "nbformat": 4,
 "nbformat_minor": 2
}
